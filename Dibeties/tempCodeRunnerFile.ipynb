import pickle
with open("diabetes_model.pkl", "wb") as f:
    pickle.dump(Model, f)